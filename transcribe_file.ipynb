{
 "cells": [
  {
   "cell_type": "code",
   "execution_count": 5,
   "metadata": {},
   "outputs": [],
   "source": [
    "import assemblyai as aai\n",
    "\n",
    "# Replace with your API key\n",
    "aai.settings.api_key = \"\"\n",
    "\n",
    "# URL of the file to transcribe\n",
    "FILE_URL = \"Markowa.m4a\"\n"
   ]
  },
  {
   "cell_type": "code",
   "execution_count": 7,
   "metadata": {},
   "outputs": [],
   "source": [
    "# You can also transcribe a local file by passing in a file path\n",
    "# FILE_URL = './path/to/file.mp3'\n",
    "\n",
    "config = aai.TranscriptionConfig(speaker_labels=True)\n",
    "\n",
    "transcriber = aai.Transcriber()\n",
    "transcript = transcriber.transcribe(\n",
    "  FILE_URL,\n",
    "  config=config\n",
    ")\n"
   ]
  },
  {
   "cell_type": "code",
   "execution_count": 29,
   "metadata": {},
   "outputs": [],
   "source": [
    "data = transcript.get_by_id('')"
   ]
  },
  {
   "cell_type": "code",
   "execution_count": 11,
   "metadata": {},
   "outputs": [],
   "source": [
    "def convert_ms_to_hms(milliseconds):\n",
    "            seconds, milliseconds = divmod(milliseconds, 1000)\n",
    "            minutes, seconds = divmod(seconds, 60)\n",
    "            hours, minutes = divmod(minutes, 60)\n",
    "            return f\"{hours:02}:{minutes:02}:{seconds:02}\""
   ]
  },
  {
   "cell_type": "code",
   "execution_count": 34,
   "metadata": {},
   "outputs": [],
   "source": [
    "transcript_text = \"\"\n",
    "\n",
    "for utterance in data.utterances:\n",
    "    start_time_formatted = convert_ms_to_hms(utterance.start)\n",
    "    end_time_formatted = convert_ms_to_hms(utterance.end)\n",
    "    speaker = utterance.speaker\n",
    "    utterance_text = utterance.text\n",
    "    transcript_text += f\"[{start_time_formatted}-{end_time_formatted}] SPEAKER {speaker}: {utterance_text}\\n\\n\"\n"
   ]
  },
  {
   "cell_type": "code",
   "execution_count": 36,
   "metadata": {},
   "outputs": [],
   "source": [
    "with open(\"markowa_internat.txt\", \"w\") as f:\n",
    "    f.write(transcript_text)"
   ]
  }
 ],
 "metadata": {
  "kernelspec": {
   "display_name": ".venv",
   "language": "python",
   "name": "python3"
  },
  "language_info": {
   "codemirror_mode": {
    "name": "ipython",
    "version": 3
   },
   "file_extension": ".py",
   "mimetype": "text/x-python",
   "name": "python",
   "nbconvert_exporter": "python",
   "pygments_lexer": "ipython3",
   "version": "3.11.8"
  }
 },
 "nbformat": 4,
 "nbformat_minor": 2
}
