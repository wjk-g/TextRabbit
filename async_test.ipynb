{
 "cells": [
  {
   "cell_type": "code",
   "execution_count": 28,
   "metadata": {},
   "outputs": [],
   "source": [
    "import assemblyai as aai\n",
    "import os\n",
    "\n",
    "aai.settings.api_key = os.getenv('ASSEMBLYAI_API_KEY') \n",
    "\n",
    "transcriber = aai.Transcriber()\n",
    "\n",
    "audio_url = \"audio_files/84-a-date-2.mp3\"\n",
    "\n",
    "config = aai.TranscriptionConfig(speaker_labels=True)\n",
    "\n",
    "future_obj = transcriber.transcribe_async(audio_url, config)"
   ]
  },
  {
   "cell_type": "code",
   "execution_count": 39,
   "metadata": {},
   "outputs": [
    {
     "name": "stdout",
     "output_type": "stream",
     "text": [
      "<bound method Future.result of <Future at 0x10c2fe590 state=finished returned Transcript>>\n",
      "True\n"
     ]
    },
    {
     "data": {
      "text/plain": [
       "['__class__',\n",
       " '__delattr__',\n",
       " '__dict__',\n",
       " '__dir__',\n",
       " '__doc__',\n",
       " '__eq__',\n",
       " '__format__',\n",
       " '__ge__',\n",
       " '__getattribute__',\n",
       " '__getstate__',\n",
       " '__gt__',\n",
       " '__hash__',\n",
       " '__init__',\n",
       " '__init_subclass__',\n",
       " '__le__',\n",
       " '__lt__',\n",
       " '__module__',\n",
       " '__ne__',\n",
       " '__new__',\n",
       " '__reduce__',\n",
       " '__reduce_ex__',\n",
       " '__repr__',\n",
       " '__setattr__',\n",
       " '__sizeof__',\n",
       " '__str__',\n",
       " '__subclasshook__',\n",
       " '__weakref__',\n",
       " '_client',\n",
       " '_executor',\n",
       " '_impl',\n",
       " 'audio_duration',\n",
       " 'audio_url',\n",
       " 'auto_highlights',\n",
       " 'chapters',\n",
       " 'confidence',\n",
       " 'config',\n",
       " 'content_safety',\n",
       " 'entities',\n",
       " 'error',\n",
       " 'export_subtitles_srt',\n",
       " 'export_subtitles_vtt',\n",
       " 'from_response',\n",
       " 'get_by_id',\n",
       " 'get_by_id_async',\n",
       " 'get_paragraphs',\n",
       " 'get_redacted_audio_url',\n",
       " 'get_sentences',\n",
       " 'iab_categories',\n",
       " 'id',\n",
       " 'json_response',\n",
       " 'lemur',\n",
       " 'save_redacted_audio',\n",
       " 'sentiment_analysis',\n",
       " 'status',\n",
       " 'summary',\n",
       " 'text',\n",
       " 'utterances',\n",
       " 'wait_for_completion',\n",
       " 'wait_for_completion_async',\n",
       " 'webhook_auth',\n",
       " 'webhook_status_code',\n",
       " 'word_search',\n",
       " 'words']"
      ]
     },
     "execution_count": 39,
     "metadata": {},
     "output_type": "execute_result"
    }
   ],
   "source": [
    "type(future_obj)\n",
    "print(future_obj.result)\n",
    "dir(future_obj)\n",
    "print('result' in dir(future_obj))\n",
    "dir(future_obj.result())\n",
    "\n"
   ]
  },
  {
   "cell_type": "code",
   "execution_count": 22,
   "metadata": {},
   "outputs": [
    {
     "name": "stdout",
     "output_type": "stream",
     "text": [
      "<assemblyai.transcriber.Transcript object at 0x10c848110>\n",
      "<assemblyai.transcriber.Transcript object at 0x10c848110>\n",
      "TranscriptStatus.completed\n",
      "[Utterance(text='A date? Two.', start=570, end=2480, confidence=0.7785666666666667, channel=None, speaker='B', words=[UtteranceWord(text='A', start=570, end=734, confidence=0.57, channel=None, speaker='B'), UtteranceWord(text='date?', start=772, end=1360, confidence=0.9957, channel=None, speaker='B'), UtteranceWord(text='Two.', start=1730, end=2480, confidence=0.77, channel=None, speaker='B')]), Utterance(text='Hello?', start=4130, end=4926, confidence=0.99907, channel=None, speaker='A', words=[UtteranceWord(text='Hello?', start=4130, end=4926, confidence=0.99907, channel=None, speaker='A')]), Utterance(text='Sandy, is that.', start=5108, end=6974, confidence=0.73135, channel=None, speaker='B', words=[UtteranceWord(text='Sandy,', start=5108, end=5946, confidence=0.19424, channel=None, speaker='B'), UtteranceWord(text='is', start=6058, end=6286, confidence=0.99997, channel=None, speaker='B'), UtteranceWord(text='that.', start=6308, end=6974, confidence=0.99984, channel=None, speaker='B')]), Utterance(text=\"Uh huh. Who's this?\", start=7172, end=8638, confidence=0.865975, channel=None, speaker='A', words=[UtteranceWord(text='Uh', start=7172, end=7582, confidence=0.48864, channel=None, speaker='A'), UtteranceWord(text='huh.', start=7636, end=7902, confidence=0.98809, channel=None, speaker='A'), UtteranceWord(text=\"Who's\", start=7956, end=8266, confidence=0.99306, channel=None, speaker='A'), UtteranceWord(text='this?', start=8298, end=8638, confidence=0.99411, channel=None, speaker='A')]), Utterance(text=\"It's Gil.\", start=8724, end=9530, confidence=0.719775, channel=None, speaker='B', words=[UtteranceWord(text=\"It's\", start=8724, end=9114, confidence=0.53822, channel=None, speaker='B'), UtteranceWord(text='Gil.', start=9162, end=9530, confidence=0.90133, channel=None, speaker='B')]), Utterance(text='Gil? Gil who?', start=9610, end=11102, confidence=0.87453, channel=None, speaker='A', words=[UtteranceWord(text='Gil?', start=9610, end=10138, confidence=0.85215, channel=None, speaker='A'), UtteranceWord(text='Gil', start=10234, end=10586, confidence=0.97144, channel=None, speaker='A'), UtteranceWord(text='who?', start=10618, end=11102, confidence=0.8, channel=None, speaker='A')]), Utterance(text='What do you mean, Gil who? Gil Dixon, of course.', start=11236, end=14366, confidence=0.9717759999999999, channel=None, speaker='B', words=[UtteranceWord(text='What', start=11236, end=11486, confidence=0.99984, channel=None, speaker='B'), UtteranceWord(text='do', start=11508, end=11598, confidence=0.99982, channel=None, speaker='B'), UtteranceWord(text='you', start=11604, end=11726, confidence=0.99882, channel=None, speaker='B'), UtteranceWord(text='mean,', start=11748, end=11982, confidence=0.99955, channel=None, speaker='B'), UtteranceWord(text='Gil', start=12036, end=12346, confidence=0.97665, channel=None, speaker='B'), UtteranceWord(text='who?', start=12378, end=12814, confidence=0.81399, channel=None, speaker='B'), UtteranceWord(text='Gil', start=12932, end=13274, confidence=0.94016, channel=None, speaker='B'), UtteranceWord(text='Dixon,', start=13322, end=13786, confidence=0.99609, channel=None, speaker='B'), UtteranceWord(text='of', start=13818, end=13966, confidence=1.0, channel=None, speaker='B'), UtteranceWord(text='course.', start=13988, end=14366, confidence=0.99284, channel=None, speaker='B')]), Utterance(text=\"Oh, Gil, I'm sorry.\", start=14468, end=16766, confidence=0.9642925, channel=None, speaker='A', words=[UtteranceWord(text='Oh,', start=14468, end=14926, confidence=1.0, channel=None, speaker='A'), UtteranceWord(text='Gil,', start=15028, end=15626, confidence=0.93135, channel=None, speaker='A'), UtteranceWord(text=\"I'm\", start=15738, end=16074, confidence=0.92586, channel=None, speaker='A'), UtteranceWord(text='sorry.', start=16122, end=16766, confidence=0.99996, channel=None, speaker='A')]), Utterance(text='Yes, we had a date last night. Where were you? I waited for 1 hour.', start=16948, end=21598, confidence=0.9926726666666668, channel=None, speaker='B', words=[UtteranceWord(text='Yes,', start=16948, end=17438, confidence=0.99965, channel=None, speaker='B'), UtteranceWord(text='we', start=17524, end=17726, confidence=0.99995, channel=None, speaker='B'), UtteranceWord(text='had', start=17748, end=17886, confidence=0.99957, channel=None, speaker='B'), UtteranceWord(text='a', start=17908, end=17998, confidence=1.0, channel=None, speaker='B'), UtteranceWord(text='date', start=18004, end=18222, confidence=0.99993, channel=None, speaker='B'), UtteranceWord(text='last', start=18276, end=18494, confidence=0.99996, channel=None, speaker='B'), UtteranceWord(text='night.', start=18532, end=18974, confidence=0.99983, channel=None, speaker='B'), UtteranceWord(text='Where', start=19092, end=19374, confidence=0.99824, channel=None, speaker='B'), UtteranceWord(text='were', start=19412, end=19614, confidence=0.9999, channel=None, speaker='B'), UtteranceWord(text='you?', start=19652, end=19950, confidence=0.99513, channel=None, speaker='B'), UtteranceWord(text='I', start=20020, end=20302, confidence=1.0, channel=None, speaker='B'), UtteranceWord(text='waited', start=20356, end=20714, confidence=0.99863, channel=None, speaker='B'), UtteranceWord(text='for', start=20762, end=20926, confidence=0.9993, channel=None, speaker='B'), UtteranceWord(text='1', start=20948, end=21182, confidence=0.9, channel=None, speaker='B'), UtteranceWord(text='hour.', start=21236, end=21598, confidence=1.0, channel=None, speaker='B')]), Utterance(text=\"Oh, I'm sorry, Gil. I couldn't come.\", start=21684, end=24046, confidence=0.9246771428571429, channel=None, speaker='A', words=[UtteranceWord(text='Oh,', start=21684, end=21934, confidence=0.99, channel=None, speaker='A'), UtteranceWord(text=\"I'm\", start=21972, end=22186, confidence=0.99938, channel=None, speaker='A'), UtteranceWord(text='sorry,', start=22218, end=22510, confidence=0.99989, channel=None, speaker='A'), UtteranceWord(text='Gil.', start=22580, end=22970, confidence=0.67727, channel=None, speaker='A'), UtteranceWord(text='I', start=23050, end=23294, confidence=1.0, channel=None, speaker='A'), UtteranceWord(text=\"couldn't\", start=23332, end=23594, confidence=0.92993, channel=None, speaker='A'), UtteranceWord(text='come.', start=23642, end=24046, confidence=0.87627, channel=None, speaker='A')]), Utterance(text=\"Couldn't come? Why not?\", start=24148, end=26006, confidence=0.97491, channel=None, speaker='B', words=[UtteranceWord(text=\"Couldn't\", start=24148, end=24554, confidence=0.99294, channel=None, speaker='B'), UtteranceWord(text='come?', start=24602, end=25126, confidence=0.91207, channel=None, speaker='B'), UtteranceWord(text='Why', start=25268, end=25574, confidence=0.9947, channel=None, speaker='B'), UtteranceWord(text='not?', start=25612, end=26006, confidence=0.99993, channel=None, speaker='B')]), Utterance(text='Well, I had to pack my stuff for my trip.', start=26108, end=28562, confidence=0.9998339999999999, channel=None, speaker='A', words=[UtteranceWord(text='Well,', start=26108, end=26374, confidence=0.99937, channel=None, speaker='A'), UtteranceWord(text='I', start=26412, end=26566, confidence=1.0, channel=None, speaker='A'), UtteranceWord(text='had', start=26588, end=26726, confidence=0.99991, channel=None, speaker='A'), UtteranceWord(text='to', start=26748, end=26886, confidence=1.0, channel=None, speaker='A'), UtteranceWord(text='pack', start=26908, end=27094, confidence=0.99995, channel=None, speaker='A'), UtteranceWord(text='my', start=27132, end=27286, confidence=0.99968, channel=None, speaker='A'), UtteranceWord(text='stuff', start=27308, end=27542, confidence=0.99994, channel=None, speaker='A'), UtteranceWord(text='for', start=27596, end=27766, confidence=0.99984, channel=None, speaker='A'), UtteranceWord(text='my', start=27788, end=27926, confidence=0.99987, channel=None, speaker='A'), UtteranceWord(text='trip.', start=27948, end=28562, confidence=0.99978, channel=None, speaker='A')]), Utterance(text=\"Why didn't you call me?\", start=28706, end=30070, confidence=0.9944900000000001, channel=None, speaker='B', words=[UtteranceWord(text='Why', start=28706, end=29014, confidence=0.99988, channel=None, speaker='B'), UtteranceWord(text=\"didn't\", start=29052, end=29266, confidence=0.97331, channel=None, speaker='B'), UtteranceWord(text='you', start=29298, end=29494, confidence=0.9996, channel=None, speaker='B'), UtteranceWord(text='call', start=29532, end=29734, confidence=0.99995, channel=None, speaker='B'), UtteranceWord(text='me?', start=29772, end=30070, confidence=0.99971, channel=None, speaker='B')]), Utterance(text=\"I wanted to call you, but I couldn't remember your phone number.\", start=30140, end=34422, confidence=0.9808541666666667, channel=None, speaker='A', words=[UtteranceWord(text='I', start=30140, end=30374, confidence=0.85, channel=None, speaker='A'), UtteranceWord(text='wanted', start=30412, end=30662, confidence=0.9994, channel=None, speaker='A'), UtteranceWord(text='to', start=30716, end=30886, confidence=1.0, channel=None, speaker='A'), UtteranceWord(text='call', start=30908, end=31094, confidence=0.99985, channel=None, speaker='A'), UtteranceWord(text='you,', start=31132, end=31334, confidence=0.9977, channel=None, speaker='A'), UtteranceWord(text='but', start=31372, end=31960, confidence=0.99985, channel=None, speaker='A'), UtteranceWord(text='I', start=32410, end=32774, confidence=1.0, channel=None, speaker='A'), UtteranceWord(text=\"couldn't\", start=32812, end=33074, confidence=0.92363, channel=None, speaker='A'), UtteranceWord(text='remember', start=33122, end=33382, confidence=0.99999, channel=None, speaker='A'), UtteranceWord(text='your', start=33436, end=33606, confidence=0.99994, channel=None, speaker='A'), UtteranceWord(text='phone', start=33628, end=33862, confidence=0.99995, channel=None, speaker='A'), UtteranceWord(text='number.', start=33916, end=34422, confidence=0.99994, channel=None, speaker='A')]), Utterance(text=\"And now I'm going to forget yours. Close.\", start=34556, end=37860, confidence=0.90469125, channel=None, speaker='B', words=[UtteranceWord(text='And', start=34556, end=34854, confidence=1.0, channel=None, speaker='B'), UtteranceWord(text='now', start=34892, end=35238, confidence=0.67912, channel=None, speaker='B'), UtteranceWord(text=\"I'm\", start=35324, end=35586, confidence=0.8862, channel=None, speaker='B'), UtteranceWord(text='going', start=35618, end=35766, confidence=0.99945, channel=None, speaker='B'), UtteranceWord(text='to', start=35788, end=35878, confidence=1.0, channel=None, speaker='B'), UtteranceWord(text='forget', start=35884, end=36194, confidence=0.99981, channel=None, speaker='B'), UtteranceWord(text='yours.', start=36242, end=37110, confidence=0.99334, channel=None, speaker='B'), UtteranceWord(text='Close.', start=37610, end=37860, confidence=0.67961, channel=None, speaker='B')])]\n",
      "beaf5cd4-feea-4e84-8d47-ae95925f5c22\n",
      "beaf5cd4-feea-4e84-8d47-ae95925f5c22\n",
      "False\n",
      "{'_condition': <Condition(<unlocked _thread.RLock object owner=0 count=0 at 0x10c2e6180>, 0)>, '_state': 'FINISHED', '_result': <assemblyai.transcriber.Transcript object at 0x10c848110>, '_exception': None, '_waiters': [], '_done_callbacks': []}\n"
     ]
    }
   ],
   "source": [
    "print(future.result())\n",
    "result = future.result()\n",
    "print(result)\n",
    "print(result.status)\n",
    "print(result.utterances)\n",
    "print(result.id)\n",
    "print(future.result().id)\n",
    "print(future.running())\n",
    "print(future.__dict__)"
   ]
  },
  {
   "cell_type": "code",
   "execution_count": 47,
   "metadata": {},
   "outputs": [
    {
     "name": "stdout",
     "output_type": "stream",
     "text": [
      "<Future at 0x10c2fe590 state=finished returned Transcript>\n"
     ]
    },
    {
     "data": {
      "text/plain": [
       "['_condition',\n",
       " '_state',\n",
       " '_result',\n",
       " '_exception',\n",
       " '_waiters',\n",
       " '_done_callbacks',\n",
       " '__module__',\n",
       " '__doc__',\n",
       " '__init__',\n",
       " '_invoke_callbacks',\n",
       " '__repr__',\n",
       " 'cancel',\n",
       " 'cancelled',\n",
       " 'running',\n",
       " 'done',\n",
       " '_Future__get_result',\n",
       " 'add_done_callback',\n",
       " 'result',\n",
       " 'exception',\n",
       " 'set_running_or_notify_cancel',\n",
       " 'set_result',\n",
       " 'set_exception',\n",
       " '__class_getitem__',\n",
       " '__dict__',\n",
       " '__weakref__',\n",
       " '__new__',\n",
       " '__hash__',\n",
       " '__str__',\n",
       " '__getattribute__',\n",
       " '__setattr__',\n",
       " '__delattr__',\n",
       " '__lt__',\n",
       " '__le__',\n",
       " '__eq__',\n",
       " '__ne__',\n",
       " '__gt__',\n",
       " '__ge__',\n",
       " '__reduce_ex__',\n",
       " '__reduce__',\n",
       " '__getstate__',\n",
       " '__subclasshook__',\n",
       " '__init_subclass__',\n",
       " '__format__',\n",
       " '__sizeof__',\n",
       " '__dir__',\n",
       " '__class__']"
      ]
     },
     "execution_count": 47,
     "metadata": {},
     "output_type": "execute_result"
    }
   ],
   "source": [
    "print(future_obj)\n",
    "future_obj.__dir__()"
   ]
  }
 ],
 "metadata": {
  "kernelspec": {
   "display_name": ".venv",
   "language": "python",
   "name": "python3"
  },
  "language_info": {
   "codemirror_mode": {
    "name": "ipython",
    "version": 3
   },
   "file_extension": ".py",
   "mimetype": "text/x-python",
   "name": "python",
   "nbconvert_exporter": "python",
   "pygments_lexer": "ipython3",
   "version": "3.11.8"
  }
 },
 "nbformat": 4,
 "nbformat_minor": 2
}
